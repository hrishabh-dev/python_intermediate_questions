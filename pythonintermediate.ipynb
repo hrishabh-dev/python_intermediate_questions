{
  "nbformat": 4,
  "nbformat_minor": 0,
  "metadata": {
    "colab": {
      "provenance": [],
      "gpuType": "T4",
      "authorship_tag": "ABX9TyM11R51BqH6bSTBDhYP7d2C"
    },
    "kernelspec": {
      "name": "python3",
      "display_name": "Python 3"
    },
    "language_info": {
      "name": "python"
    },
    "accelerator": "GPU"
  },
  "cells": [
    {
      "cell_type": "markdown",
      "source": [
        "Intermediate Level Python Coding Question & Answers"
      ],
      "metadata": {
        "id": "14HDIfgFy7td"
      }
    },
    {
      "cell_type": "markdown",
      "source": [
        "Write a Python code to merge two dictionaries"
      ],
      "metadata": {
        "id": "3kiZw-QVzDse"
      }
    },
    {
      "cell_type": "code",
      "execution_count": null,
      "metadata": {
        "id": "romCwmLNyzb6"
      },
      "outputs": [],
      "source": [
        "def dict():\n",
        "  a={'a':1,'b':2}\n",
        "  b={'a':3,'c':3}\n",
        "  merge={**a,**b}\n",
        "  return merge"
      ]
    },
    {
      "cell_type": "code",
      "source": [
        "dict()"
      ],
      "metadata": {
        "colab": {
          "base_uri": "https://localhost:8080/"
        },
        "id": "nCAFZFypzW1h",
        "outputId": "5cf405a1-716b-43cd-ccdc-bea6974a3dda"
      },
      "execution_count": null,
      "outputs": [
        {
          "output_type": "execute_result",
          "data": {
            "text/plain": [
              "{'a': 3, 'b': 2, 'c': 3}"
            ]
          },
          "metadata": {},
          "execution_count": 4
        }
      ]
    },
    {
      "cell_type": "markdown",
      "source": [
        "Write a Python program to find common elements in two lists"
      ],
      "metadata": {
        "id": "_3j3gQXKzdJM"
      }
    },
    {
      "cell_type": "code",
      "source": [
        "def common_element():\n",
        "  a=[1,2,3,4,5]\n",
        "  b=[1,3,5,6,7]\n",
        "  common=list(set(a) & set(b))\n",
        "  return common"
      ],
      "metadata": {
        "id": "LQL4EASzzZLg"
      },
      "execution_count": null,
      "outputs": []
    },
    {
      "cell_type": "code",
      "source": [
        "common_element()"
      ],
      "metadata": {
        "colab": {
          "base_uri": "https://localhost:8080/"
        },
        "id": "eTouYrtMzrfA",
        "outputId": "c08d4dca-2952-4650-e82f-b329f34927e9"
      },
      "execution_count": null,
      "outputs": [
        {
          "output_type": "execute_result",
          "data": {
            "text/plain": [
              "[1, 3, 5]"
            ]
          },
          "metadata": {},
          "execution_count": 6
        }
      ]
    },
    {
      "cell_type": "markdown",
      "source": [
        "Write a Python code to remove duplicates from a list"
      ],
      "metadata": {
        "id": "wnEJKVNDzwdh"
      }
    },
    {
      "cell_type": "code",
      "source": [
        "def dup():\n",
        "  a=[1,1,2,2,3,4,5,5,6,7,7]\n",
        "  rm_dup=list(set(a))\n",
        "  return rm_dup"
      ],
      "metadata": {
        "id": "ChYPOypFzsrT"
      },
      "execution_count": null,
      "outputs": []
    },
    {
      "cell_type": "code",
      "source": [
        "dup()"
      ],
      "metadata": {
        "colab": {
          "base_uri": "https://localhost:8080/"
        },
        "id": "SIF3bmXIz7J2",
        "outputId": "8117f9c5-07df-4f9f-e687-e8c5d5dc10c4"
      },
      "execution_count": null,
      "outputs": [
        {
          "output_type": "execute_result",
          "data": {
            "text/plain": [
              "[1, 2, 3, 4, 5, 6, 7]"
            ]
          },
          "metadata": {},
          "execution_count": 8
        }
      ]
    },
    {
      "cell_type": "markdown",
      "source": [
        "Write a Python code to check if a string is a palindrome"
      ],
      "metadata": {
        "id": "qtd81gdgz_Ji"
      }
    },
    {
      "cell_type": "code",
      "source": [
        "def pal():\n",
        "  a=input(\"Enter a string :\")\n",
        "  if a==a[::-1]:\n",
        "    return f\"it is a palindrome : {a}\""
      ],
      "metadata": {
        "id": "pEq6mOGXz8NP"
      },
      "execution_count": null,
      "outputs": []
    },
    {
      "cell_type": "code",
      "source": [
        "pal()"
      ],
      "metadata": {
        "colab": {
          "base_uri": "https://localhost:8080/",
          "height": 53
        },
        "id": "XBzKi2yx0Oye",
        "outputId": "e017e645-39f3-4a8b-99d6-02f7fca34622"
      },
      "execution_count": null,
      "outputs": [
        {
          "name": "stdout",
          "output_type": "stream",
          "text": [
            "Enter a string :radar\n"
          ]
        },
        {
          "output_type": "execute_result",
          "data": {
            "text/plain": [
              "'it is a palindrome : radar'"
            ],
            "application/vnd.google.colaboratory.intrinsic+json": {
              "type": "string"
            }
          },
          "metadata": {},
          "execution_count": 15
        }
      ]
    },
    {
      "cell_type": "markdown",
      "source": [
        "Write a Python program to find the longest word in a sentence"
      ],
      "metadata": {
        "id": "e2fCKNpd0iY7"
      }
    },
    {
      "cell_type": "code",
      "source": [
        "def long_word():\n",
        "  sentence=input(\"Enter a sentence\")\n",
        "  word=sentence.split()\n",
        "  longest_word=max(word,key=len)\n",
        "  return longest_word"
      ],
      "metadata": {
        "id": "DtJ4LVbf0dps"
      },
      "execution_count": null,
      "outputs": []
    },
    {
      "cell_type": "code",
      "source": [
        "long_word()"
      ],
      "metadata": {
        "colab": {
          "base_uri": "https://localhost:8080/",
          "height": 53
        },
        "id": "OILh-4Bz0yS1",
        "outputId": "08ef7839-5d82-4686-886a-342e6e66654b"
      },
      "execution_count": null,
      "outputs": [
        {
          "name": "stdout",
          "output_type": "stream",
          "text": [
            "Enter a sentencethis is my computer\n"
          ]
        },
        {
          "output_type": "execute_result",
          "data": {
            "text/plain": [
              "'computer'"
            ],
            "application/vnd.google.colaboratory.intrinsic+json": {
              "type": "string"
            }
          },
          "metadata": {},
          "execution_count": 17
        }
      ]
    },
    {
      "cell_type": "markdown",
      "source": [
        "Write a Python code to find the first non-repeating character in a string"
      ],
      "metadata": {
        "id": "Zmr-atLJ1GfU"
      }
    },
    {
      "cell_type": "code",
      "source": [
        "def non_re():\n",
        "  c={}\n",
        "  a=input(\"Enter :-\")\n",
        "  for i in a:\n",
        "    if i in c:\n",
        "      c[i]+=1\n",
        "    else:\n",
        "      c[i]=1\n",
        "  for i in a:\n",
        "    if c[i]==1:\n",
        "      return i"
      ],
      "metadata": {
        "id": "2bfPSucH0zl1"
      },
      "execution_count": 1,
      "outputs": []
    },
    {
      "cell_type": "code",
      "source": [
        "non_re()"
      ],
      "metadata": {
        "colab": {
          "base_uri": "https://localhost:8080/",
          "height": 53
        },
        "id": "J37DOZe-2WPD",
        "outputId": "8ea98510-8a51-4523-9ae6-754c6bb80ce1"
      },
      "execution_count": 5,
      "outputs": [
        {
          "name": "stdout",
          "output_type": "stream",
          "text": [
            "Enter :-ds sfnsf ogts g\n"
          ]
        },
        {
          "output_type": "execute_result",
          "data": {
            "text/plain": [
              "'d'"
            ],
            "application/vnd.google.colaboratory.intrinsic+json": {
              "type": "string"
            }
          },
          "metadata": {},
          "execution_count": 5
        }
      ]
    },
    {
      "cell_type": "code",
      "source": [
        "c={}\n"
      ],
      "metadata": {
        "id": "TihSz3Mu2YLO"
      },
      "execution_count": null,
      "outputs": []
    }
  ]
}