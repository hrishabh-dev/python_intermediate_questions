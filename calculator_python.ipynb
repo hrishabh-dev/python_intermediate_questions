{
 "cells": [
  {
   "cell_type": "code",
   "execution_count": null,
   "id": "5779e500-f897-4028-bdd4-39a297398bde",
   "metadata": {},
   "outputs": [],
   "source": [
    "# Simple Calculator using object oriented programming in python"
   ]
  },
  {
   "cell_type": "code",
   "execution_count": 21,
   "id": "06f687f7-4ce4-4f96-a924-81a4f2f6f747",
   "metadata": {},
   "outputs": [
    {
     "name": "stdout",
     "output_type": "stream",
     "text": [
      "-----------------------------\n",
      "1. Addition \n",
      "2. Subtraction\n",
      "3. Multiplication\n",
      "4. Division\n",
      "5. Exit \n",
      "-----------------------------\n"
     ]
    },
    {
     "name": "stdin",
     "output_type": "stream",
     "text": [
      "Choose options from  1 to 5 :- 4\n",
      "Enter number 1 :- 344\n",
      "Enter number 2 :- 23\n"
     ]
    },
    {
     "name": "stdout",
     "output_type": "stream",
     "text": [
      "Division of 344.0 and 23.0 is - 14.956521739130435\n",
      "-----------------------------\n",
      "1. Addition \n",
      "2. Subtraction\n",
      "3. Multiplication\n",
      "4. Division\n",
      "5. Exit \n",
      "-----------------------------\n"
     ]
    },
    {
     "name": "stdin",
     "output_type": "stream",
     "text": [
      "Choose options from  1 to 5 :- 5\n"
     ]
    },
    {
     "name": "stdout",
     "output_type": "stream",
     "text": [
      "Exiting ....\n",
      "Thank you please visit again\n"
     ]
    }
   ],
   "source": [
    "class calculator:\n",
    "    @staticmethod\n",
    "    def addition():\n",
    "        a=float(input(\"Enter number 1 :-\"))\n",
    "        b=float(input(\"Enter number 2 :-\"))\n",
    "        t=a+b \n",
    "        print(f\"Sum of {a} and {b} is - {t}\")\n",
    "    @staticmethod\n",
    "    def minus():\n",
    "        a=float(input(\"Enter number 1 :-\"))\n",
    "        b=float(input(\"Enter number 2 :-\"))\n",
    "        t=a-b \n",
    "        print(f\"Subtraction of {a} and {b} is - {t}\")\n",
    "    @staticmethod\n",
    "    def multip(): \n",
    "        a=float(input(\"Enter number 1 :-\"))\n",
    "        b=float(input(\"Enter number 2 :-\"))\n",
    "        t=a*b \n",
    "        print(f\"Multiplication of {a} and {b} is - {t}\")\n",
    "    @staticmethod\n",
    "    def divide():\n",
    "        a=float(input(\"Enter number 1 :-\"))\n",
    "        b=float(input(\"Enter number 2 :-\"))\n",
    "        t=a/b \n",
    "        print(f\"Division of {a} and {b} is - {t}\")\n",
    "        \n",
    "def main():\n",
    "    flag=True\n",
    "    while True: \n",
    "        print(\"-----------------------------\")\n",
    "        print(\"1. Addition \")\n",
    "        print(\"2. Subtraction\")\n",
    "        print(\"3. Multiplication\")\n",
    "        print(\"4. Division\")\n",
    "        print(\"5. Exit \")\n",
    "        print(\"-----------------------------\")\n",
    "        n=int(input(\"Choose options from  1 to 5 :-\"))\n",
    "        try: \n",
    "            if n==1: \n",
    "                calculator.addition() \n",
    "            elif n==2: \n",
    "                calculator.minus() \n",
    "            elif n==3: \n",
    "                calculator.multip() \n",
    "            elif n==4: \n",
    "                calculator.divide()\n",
    "            elif n==5: \n",
    "                flag=False\n",
    "                print(\"Exiting ....\")\n",
    "                print(\"Thank you please visit again\")\n",
    "                break \n",
    "            else:\n",
    "                print(\"Invalid value\")\n",
    "        \n",
    "        except ValueError  : \n",
    "            print(\"Please enter valid value\")\n",
    "if __name__==\"__main__\": \n",
    "    main()"
   ]
  },
  {
   "cell_type": "code",
   "execution_count": null,
   "id": "84cdc9ba-6fea-4b0b-84c6-38fece8275ea",
   "metadata": {},
   "outputs": [],
   "source": []
  }
 ],
 "metadata": {
  "kernelspec": {
   "display_name": "Python 3 (ipykernel)",
   "language": "python",
   "name": "python3"
  },
  "language_info": {
   "codemirror_mode": {
    "name": "ipython",
    "version": 3
   },
   "file_extension": ".py",
   "mimetype": "text/x-python",
   "name": "python",
   "nbconvert_exporter": "python",
   "pygments_lexer": "ipython3",
   "version": "3.11.1"
  }
 },
 "nbformat": 4,
 "nbformat_minor": 5
}
